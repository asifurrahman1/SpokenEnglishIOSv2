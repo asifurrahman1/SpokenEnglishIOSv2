{
  "nbformat": 4,
  "nbformat_minor": 0,
  "metadata": {
    "colab": {
      "name": "Qmix_Final_CODE",
      "private_outputs": true,
      "provenance": [],
      "collapsed_sections": [],
      "toc_visible": true,
      "include_colab_link": true
    },
    "kernelspec": {
      "name": "python3",
      "display_name": "Python 3"
    },
    "accelerator": "GPU"
  },
  "cells": [
    {
      "cell_type": "markdown",
      "metadata": {
        "id": "view-in-github",
        "colab_type": "text"
      },
      "source": [
        "<a href=\"https://colab.research.google.com/github/asifurrahman1/SpokenEnglishIOSv2/blob/master/Qmix_Final_CODE.ipynb\" target=\"_parent\"><img src=\"https://colab.research.google.com/assets/colab-badge.svg\" alt=\"Open In Colab\"/></a>"
      ]
    },
    {
      "cell_type": "code",
      "metadata": {
        "id": "LLOlLbH2R7Aa"
      },
      "source": [
        "# Uncomment the line below to use dev branch of pysc2\n",
        "#!pip install git+https://github.com/deepmind/pysc2.git@dev\n",
        "\n",
        "# Note: Colab does not have an X Server, installing a virtual one\n",
        "!pip install -q pysc2 pyvirtualdisplay\n",
        "!apt-get install -y xvfb python-opengl mesa-utils libosmesa6-dev xorg x11-xserver-utils"
      ],
      "execution_count": null,
      "outputs": []
    },
    {
      "cell_type": "markdown",
      "metadata": {
        "id": "bWrtoOOIeIbr"
      },
      "source": [
        "Add the following lines to \n",
        "/usr/local/lib/python3.6/dist-packages/pysc2/run_configs/__init__.py\n",
        "\n",
        "import sys\n",
        "\n",
        "FLAGS = flags.FLAGS\n",
        "\n",
        "FLAGS(sys.argv)"
      ]
    },
    {
      "cell_type": "code",
      "metadata": {
        "id": "X-YDo3KvIl5O"
      },
      "source": [
        "!pip install -q s2clientprotocol"
      ],
      "execution_count": null,
      "outputs": []
    },
    {
      "cell_type": "code",
      "metadata": {
        "id": "9viW3ESbSNhy"
      },
      "source": [
        "!wget https://blzdistsc2-a.akamaihd.net/Linux/SC2.4.0.2.zip\n",
        "!unzip -P iagreetotheeula -oq SC2.4.0.2.zip -d ~"
      ],
      "execution_count": null,
      "outputs": []
    },
    {
      "cell_type": "code",
      "metadata": {
        "id": "aktYL-8q-Pkp"
      },
      "source": [
        "# 4/1AY0e-g4yVcrcPEK6KTUE4rS0mu7jXeVHdf4JI3n59SX6bXpGPBjoADjTH3I\n",
        "from google.colab import drive\n",
        "drive.mount('/gdrive')"
      ],
      "execution_count": null,
      "outputs": []
    },
    {
      "cell_type": "code",
      "metadata": {
        "id": "B71pACFk_hIE"
      },
      "source": [
        "#%rm -rf /content/SC2.4.0.2.zip\n",
        "#%cp -av /content/StarCraftII /root\n",
        "%cp -av /gdrive/MyDrive/'Colab Notebooks'/qmix /root/\n",
        "\n"
      ],
      "execution_count": null,
      "outputs": []
    },
    {
      "cell_type": "code",
      "metadata": {
        "id": "12YGBNhD32iy"
      },
      "source": [
        "%cp -av /gdrive/MyDrive/'Colab Notebooks'/Maps /root/StarCraftII/"
      ],
      "execution_count": null,
      "outputs": []
    },
    {
      "cell_type": "code",
      "metadata": {
        "id": "Vpr7u2U_BFp2"
      },
      "source": [
        "#%cp -av /gdrive/MyDrive/Colab_Notebooks/StarCraftII /root\n",
        "#%cp -av /root/qmix /gdrive/MyDrive/'Colab_Notebooks'\n",
        "#%cp -av /gdrive/MyDrive/Colab_Notebooks/qmix /root"
      ],
      "execution_count": null,
      "outputs": []
    },
    {
      "cell_type": "code",
      "metadata": {
        "id": "oIZS_m26HVJD"
      },
      "source": [
        "%cp -av /root/qmix /gdrive/MyDrive/'Colab Notebooks'"
      ],
      "execution_count": null,
      "outputs": []
    },
    {
      "cell_type": "code",
      "metadata": {
        "id": "o4qrjlBp9A1r"
      },
      "source": [
        "%cp -av /root/StarCraftII/Maps /gdrive/MyDrive/'Colab Notebooks'"
      ],
      "execution_count": null,
      "outputs": []
    },
    {
      "cell_type": "code",
      "metadata": {
        "id": "Ucy1pZnzjYg7"
      },
      "source": [
        "# Important - remove libtcmalloc\n",
        "!apt-get remove libtcmalloc*"
      ],
      "execution_count": null,
      "outputs": []
    },
    {
      "cell_type": "code",
      "metadata": {
        "id": "aITeha9lGwTL"
      },
      "source": [
        "%cd ..\n",
        "%cd /root/qmix/\n"
      ],
      "execution_count": null,
      "outputs": []
    },
    {
      "cell_type": "code",
      "metadata": {
        "id": "OjZDeNouODBY"
      },
      "source": [
        "!python3 main.py"
      ],
      "execution_count": null,
      "outputs": []
    }
  ]
}